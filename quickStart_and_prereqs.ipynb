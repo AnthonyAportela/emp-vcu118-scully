{
 "cells": [
  {
   "cell_type": "markdown",
   "id": "c826c375-ec60-45e1-94b0-3df6063fc358",
   "metadata": {
    "tags": []
   },
   "source": [
    "# Null-algo quickstart and building your own firmware for the VCU118\n",
    "Typically the pipeline for this sort of think goes:\n",
    "\n",
    "    program algorithm > build algorithm to firmware > deploy firmware onto FPGA\n",
    "\n",
    "For the purose of this tutorial, we're going to go backwards:\n",
    "\n",
    "    deploy firmware onto FPGA > build algorithm to firmware > program algorithm\n",
    "\n",
    "to get a better idea of the process.\n",
    "\n",
    "\n",
    "## Deploying an algorithm\n",
    "\n",
    "The following steps we find, connect, and program the FPGA with an existing bitsteam file.\n",
    "\n",
    "1) Login with X11 forwarding enabled and clone our VCU118 repo"
   ]
  },
  {
   "cell_type": "raw",
   "id": "133a6c8c-2bcd-42cd-82c0-da8a408afd2e",
   "metadata": {},
   "source": [
    "ssh -Y <username>@scully.physics.ucsd.edu\n",
    "git clone https://github.com/ucsd-hep-ex/VCU118"
   ]
  },
  {
   "cell_type": "markdown",
   "id": "fb7540ce-fda2-46d3-922d-105d3b8b71f8",
   "metadata": {},
   "source": [
    "For a couple of these steps, root access is required. Remember to leave root access when you are done with this section! Stuff can get messy if you do too much stuff with it!!!\n",
    "\n",
    "2) Set up the environment as follows:"
   ]
  },
  {
   "cell_type": "raw",
   "id": "0ad12ce1-66d2-4745-b6f7-230780a3fb7d",
   "metadata": {},
   "source": [
    "sudo xauth add $(xauth -f /home/users/${USER}/.Xauthority list|tail -1)\n",
    "sudo bash\n",
    "source /home/users/woodson/setup_emp.sh"
   ]
  },
  {
   "cell_type": "markdown",
   "id": "d8879a35-bda9-4a1a-985d-bfd8c50e4042",
   "metadata": {},
   "source": [
    "Don't worry if you see a warning message saying something like 'uhal not installed'. We will be installing it later.\n",
    "\n",
    "3) Program the FPGA. First launch `vivado_lab` (with root acess)."
   ]
  },
  {
   "cell_type": "raw",
   "id": "02b499b4-74bf-4265-a56a-05111bc2f35f",
   "metadata": {},
   "source": [
    "vivado_lab"
   ]
  },
  {
   "cell_type": "markdown",
   "id": "69468db8-3588-4bdf-9a6c-c7c7328260c2",
   "metadata": {},
   "source": [
    "This will open a vivado GUI over X11 that should look something like this:"
   ]
  },
  {
   "cell_type": "markdown",
   "id": "a35162c7-16f5-4d30-984e-726c4890b259",
   "metadata": {},
   "source": [
    "![image.png](vivado_on_open.png)"
   ]
  },
  {
   "cell_type": "markdown",
   "id": "2251e3e2-3caf-4b87-b7ad-b48807d096ab",
   "metadata": {},
   "source": [
    "Navigate through by clicking\n",
    "\n",
    "1) `Open Hardware Manager` (under Quick Start)\n",
    "2) `Open target` (under toolbar highlighted in green)\n",
    "3) `Auto connect`\n",
    "4) `Program device` (same place as `Open target`)\n",
    "5) In `Bitsream file` file, paste `/home/users/woodson/p2fwk-work/proj/vcu118_null_algo/package/src/vcu118_null_algo.bit` and hit `Program`\n",
    "6) Finally, close the GUI.\n",
    "\n",
    "Hurray! We just dropped our first payload onto our FPGA!\n",
    "\n",
    "Now let's run some tests:"
   ]
  },
  {
   "cell_type": "raw",
   "id": "ff1553a1-58a5-4dcd-8235-4490297d561b",
   "metadata": {},
   "source": [
    "source VCU118/scripts/pcie_reconnect_xilinx.sh #connects to board\n",
    "source VCU118/scripts/pattern_file_test.sh #runs the test"
   ]
  },
  {
   "cell_type": "markdown",
   "id": "8ed69de4-0f67-4881-a6b0-8f41e6553719",
   "metadata": {},
   "source": [
    "Note that we need to be in root access to run the above bash scripts, but ***remember to get out of it when done with the above step!***"
   ]
  },
  {
   "cell_type": "markdown",
   "id": "1d46752a-884a-42c0-abea-40e419ed2053",
   "metadata": {},
   "source": [
    "<span style=\"color:red\">TODO:</span>\n",
    "- more pictures on the GUI steps\n",
    "- more detail on `source pcie_reconnect_xilinx.sh` and `source pattern_file_test.sh`\n",
    "\n",
    "<span style=\"color:red\">/TODO:</span>"
   ]
  },
  {
   "cell_type": "markdown",
   "id": "f17c3f01-3dd7-4d17-95cb-2b06870f78c4",
   "metadata": {
    "tags": []
   },
   "source": [
    "## Building an algorithm\n",
    "\n",
    "Previously we learned how to deploy an algorithm that's already been build. Now let's build an algorithm.\n",
    "\n",
    "First, if we are still in root access from the first section, we should get out of it by pressing `CTRL+D`. At this point it may seem like I've maybe said this too many times. Not doing this has caused me a lot of headache, not to mention the fact that while in root access, we have the power to royally mess up the system.\n",
    "\n",
    "Anyways...onto installing uHAL and ControlHub(?, not sure if ControlHub is necessary). Make sure you are in the same directory as the `VCU118` folder and preform the following:"
   ]
  },
  {
   "cell_type": "raw",
   "id": "7d0bd16c-e08c-472e-aa6a-4680bdc95d4a",
   "metadata": {},
   "source": [
    "sudo yum -y groupremove uhal\n",
    "sudo curl https://ipbus.web.cern.ch/doc/user/html/_downloads/ipbus-sw.centos8.x86_64.repo -o /etc/yum.repos.d/ipbus-sw.repo\n",
    "sudo yum-config-manager --enable powertools\n",
    "sudo yum -y clean all\n",
    "sudo yum -y groupinstall uhal controlhub\n",
    "export LD_LIBRARY_PATH=/opt/cactus/lib:$LD_LIBRARY_PATH"
   ]
  },
  {
   "cell_type": "markdown",
   "id": "4cbfb8de-4108-42e7-8184-e28da0807176",
   "metadata": {},
   "source": [
    "Install ipbb"
   ]
  },
  {
   "cell_type": "raw",
   "id": "2778fffb-5982-4db0-9a71-4e48bca76e70",
   "metadata": {},
   "source": [
    "curl -L https://github.com/ipbus/ipbb/archive/dev/2021i.tar.gz | tar xvz\n",
    "# Optionally\n",
    "mv ipbb-dev-2021i/ ipbb\n",
    "source ipbb/env.sh\n",
    "export PATH=/opt/cactus/bin/uhal/tools:$PATH LD_LIBRARY_PATH=/opt/cactus/lib:$LD_LIBRARY_PATH"
   ]
  },
  {
   "cell_type": "markdown",
   "id": "5f8d0eab-bd56-4bd7-a8f3-4c6728b7414a",
   "metadata": {},
   "source": [
    "<span style=\"color:red\">TODO: make one or two bash scripts to simplify this step.</span>\n",
    "\n",
    "Get help with `ipbb -h`, or `ipbb <cmd> -h` or `ipbb <cmd> <subcmd> -h` etc. When called with no arguments, the `ipbb` command enters an interactive shell. Go [here](https://ipbus.web.cern.ch/doc/user/html/firmware/ipbb-primer.html) for more info.\n",
    "\n",
    "Now we're gonna start building our `ipbb` environment."
   ]
  },
  {
   "cell_type": "markdown",
   "id": "a51b9542-6f5f-4400-bb1f-a1188e4b09d2",
   "metadata": {},
   "source": [
    "Next you wanna make sure you're a member of the `emp-fwk-users` and `cms-tcds2-users` e-groups by **going [here](http://egroups.cern.ch/)** and **logging in**. \n",
    "\n",
    "After **searching for aformentioned groups** in the search bar, go to the *actions* column and press **Subscribe**. It might take a couple of days to be added.\n",
    "\n",
    "**You need to be part of these groups in order to set up an `ipbb` environment.**\n",
    "\n",
    "The first 3 of the 5 repos that need to be added are public and do not need any credentials."
   ]
  },
  {
   "cell_type": "raw",
   "id": "8d72b35f-0e03-4c9c-87fe-51b215024f80",
   "metadata": {},
   "source": [
    "ipbb init p2fwk-work\n",
    "cd p2fwk-work\n",
    "ipbb add git https://gitlab.cern.ch/ttc/legacy_ttc.git -b v2.1\n",
    "ipbb add git https://gitlab.cern.ch/HPTD/tclink.git -r fda0bcf\n",
    "ipbb add git https://github.com/ipbus/ipbus-firmware -b v1.9\n",
    "\n",
    "ipbb add git https://gitlab.cern.ch/p2-xware/firmware/emp-fwk.git -b v0.6.8\n",
    "ipbb add git https://gitlab.cern.ch/cms-tcds/cms-tcds2-firmware.git -b v0_1_1"
   ]
  },
  {
   "cell_type": "markdown",
   "id": "7910eba5-84e1-4545-b065-947bad37bca2",
   "metadata": {},
   "source": [
    "The last two do need credentials. If something isn't working, that's probably why. \n",
    "\n",
    "Alternativly, if you need to set this up before gaining access to the aformentioned groups and you have access to the `ucsd-hep-ex` group on github, the last two repos (`emp-fwk`, `cms-tcds2-firmware`) are mirrored [here](https://github.com/orgs/ucsd-hep-ex/repositories). \n",
    "\n",
    "So by now, your directory should look something like this:"
   ]
  },
  {
   "cell_type": "raw",
   "id": "c164ed67-8455-47f2-a2ad-c953afda91cd",
   "metadata": {},
   "source": [
    "/\n",
    "└── p2fwk-work\n",
    "    └── proj (empty)\n",
    "    └── src\n",
    "        └── cms-tcds2-firmware\n",
    "        └── ipbus-firmware\n",
    "        └── emp-fwk\n",
    "        └── legacy_ttc\n",
    "        └── tclink\n",
    "└── VCU118\n",
    "    └── ..."
   ]
  },
  {
   "cell_type": "markdown",
   "id": "610c5511-5a89-47df-8511-ea2ad22f8dba",
   "metadata": {},
   "source": [
    "These are the bare minimum needed (for reasons I do not understand nor am I entirely sure of). \n",
    "\n",
    "Next we're going to create a 'null algo' pass-through project."
   ]
  },
  {
   "cell_type": "raw",
   "id": "fe6b80e5-bfc7-4470-9abb-d687b0fb53c6",
   "metadata": {},
   "source": [
    "ipbb proj create vivado vcu118_null_algo emp-fwk:projects/examples/vcu118 top.dep\n",
    "cd proj/vcu118_null_algo"
   ]
  },
  {
   "cell_type": "markdown",
   "id": "5fd70501-3d24-4b84-abfe-a54e8b6375a5",
   "metadata": {},
   "source": [
    "and let's make sure that we've set all our paths and sourced all of our scripts correctly:"
   ]
  },
  {
   "cell_type": "raw",
   "id": "2eada09a-36e1-452b-8364-208a01771b38",
   "metadata": {},
   "source": [
    "export LD_LIBRARY_PATH=/opt/cactus/lib:$LD_LIBRARY_PATH\n",
    "export PATH=/opt/cactus/bin/uhal/tools:$PATH LD_LIBRARY_PATH=/opt/cactus/lib:$LD_LIBRARY_PATH\n",
    "source /home/xilinx/Vivado/2019.1/.settings64-Vivado.sh  vivado"
   ]
  },
  {
   "cell_type": "markdown",
   "id": "5101430b-a16d-44ff-8040-1cccdbfccbb2",
   "metadata": {},
   "source": [
    "Then we will setup, build, and package the bitfile."
   ]
  },
  {
   "cell_type": "raw",
   "id": "3bbbdcf7-62aa-40a9-b13e-624d53788ffb",
   "metadata": {},
   "source": [
    "ipbb ipbus gendecoders\n",
    "ipbb vivado generate-project\n",
    "ipbb vivado synth -j4 impl -j4\n",
    "ipbb vivado package"
   ]
  }
 ],
 "metadata": {
  "kernelspec": {
   "display_name": "Python 3 (ipykernel)",
   "language": "python",
   "name": "python3"
  },
  "language_info": {
   "codemirror_mode": {
    "name": "ipython",
    "version": 3
   },
   "file_extension": ".py",
   "mimetype": "text/x-python",
   "name": "python",
   "nbconvert_exporter": "python",
   "pygments_lexer": "ipython3",
   "version": "3.9.12"
  }
 },
 "nbformat": 4,
 "nbformat_minor": 5
}
